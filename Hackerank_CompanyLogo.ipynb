{
  "nbformat": 4,
  "nbformat_minor": 0,
  "metadata": {
    "colab": {
      "name": "Hackerank_CompanyLogo.ipynb",
      "provenance": [],
      "collapsed_sections": []
    },
    "kernelspec": {
      "name": "python3",
      "display_name": "Python 3"
    },
    "language_info": {
      "name": "python"
    }
  },
  "cells": [
    {
      "cell_type": "code",
      "metadata": {
        "colab": {
          "base_uri": "https://localhost:8080/"
        },
        "id": "kteu5ovweAkx",
        "outputId": "181ccc75-6637-48f7-fbcd-4acaadbc786f"
      },
      "source": [
        "#Count number of characters in the words, print top 3 \n",
        "\n",
        "import math\n",
        "import os\n",
        "import random\n",
        "import re\n",
        "import sys\n",
        "import collections\n",
        "\n",
        "s = sorted(input().strip())\n",
        "s_counter = collections.Counter(s).most_common()\n",
        "#print(s_counter)\n",
        "s_counter = sorted(s_counter, key=lambda x: (x[1] * -1, x[0]))\n",
        "\n",
        "for i in range(0, 3):\n",
        "    print(s_counter[i][0], s_counter[i][1])"
      ],
      "execution_count": 1,
      "outputs": [
        {
          "output_type": "stream",
          "text": [
            "elephantttt\n",
            "t 4\n",
            "e 2\n",
            "a 1\n"
          ],
          "name": "stdout"
        }
      ]
    }
  ]
}